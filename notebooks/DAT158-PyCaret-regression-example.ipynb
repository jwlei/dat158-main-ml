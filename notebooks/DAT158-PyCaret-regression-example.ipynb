{
 "cells": [
  {
   "cell_type": "markdown",
   "id": "09b6c866-281e-46c3-8572-90261e51be0a",
   "metadata": {},
   "source": [
    "# PyCaret tutorial for DAT158"
   ]
  },
  {
   "cell_type": "markdown",
   "id": "60e288b3-8f63-4dff-be76-1ba01270646a",
   "metadata": {},
   "source": [
    "<img src=\"assets/pycaret.png\" width=\"800\" height=\"400\">\n",
    "PyCaret is an open-source,machine learning library in Python that helps you from data preparation to model deployment. "
   ]
  },
  {
   "cell_type": "markdown",
   "id": "2393defc-2159-4b3b-b2a5-ee5d254b6753",
   "metadata": {},
   "source": [
    "# Getting the data"
   ]
  },
  {
   "cell_type": "code",
   "execution_count": null,
   "id": "49b609de-cc8d-4978-8353-9082984852a8",
   "metadata": {},
   "outputs": [],
   "source": [
    "#from pycaret.datasets import get_data"
   ]
  },
  {
   "cell_type": "code",
   "execution_count": null,
   "id": "43e0a257-58b5-45fe-a1ec-e044fcab9831",
   "metadata": {},
   "outputs": [],
   "source": [
    "#get_data()"
   ]
  },
  {
   "cell_type": "code",
   "execution_count": null,
   "id": "45fbf477-7fe2-4091-ad76-d3f3b5366df2",
   "metadata": {},
   "outputs": [],
   "source": [
    "from pathlib import Path\n",
    "import pandas as pd"
   ]
  },
  {
   "cell_type": "code",
   "execution_count": null,
   "id": "96f7b1bd-53db-49db-8ed1-a085e6ecaff3",
   "metadata": {},
   "outputs": [],
   "source": [
    "NB_DIR = %pwd\n",
    "NB_DIR = Path(NB_DIR)"
   ]
  },
  {
   "cell_type": "code",
   "execution_count": null,
   "id": "46c81a81-25ab-42fa-b3f1-98b6104ee5e0",
   "metadata": {},
   "outputs": [],
   "source": [
    "dataset = pd.read_csv(NB_DIR/'data'/'train.csv') #add the train.csv file in the data folder "
   ]
  },
  {
   "cell_type": "code",
   "execution_count": null,
   "id": "8ed6a1ce-96e8-4e11-a1b2-61f57231339f",
   "metadata": {},
   "outputs": [],
   "source": [
    "dataset.head()"
   ]
  },
  {
   "cell_type": "markdown",
   "id": "72a74eee-7c24-4351-a536-b60a86a27627",
   "metadata": {},
   "source": [
    "# Setting up the environment in PyCaret"
   ]
  },
  {
   "cell_type": "code",
   "execution_count": null,
   "id": "5ed471bf-4c9e-4bfb-991f-9740c022f3f7",
   "metadata": {},
   "outputs": [],
   "source": [
    "from pycaret.regression import *"
   ]
  },
  {
   "cell_type": "code",
   "execution_count": null,
   "id": "3c021fc2-881d-4f37-9b6e-e35dc3a00c0a",
   "metadata": {},
   "outputs": [],
   "source": [
    "data = setup(data=dataset, target='median_house_value', train_size=.99, numeric_imputation='median', normalize=True, normalize_method='robust')"
   ]
  },
  {
   "cell_type": "markdown",
   "id": "28eb14d4-e589-4051-aedb-956cf518a199",
   "metadata": {},
   "source": [
    "# Select models"
   ]
  },
  {
   "cell_type": "code",
   "execution_count": null,
   "id": "4e90f54a-3571-4762-8790-d9d4f9419bef",
   "metadata": {},
   "outputs": [],
   "source": [
    "models()"
   ]
  },
  {
   "cell_type": "code",
   "execution_count": null,
   "id": "bc884c96-3583-4208-b23e-b65f00d07a2a",
   "metadata": {},
   "outputs": [],
   "source": [
    "best_models = compare_models(n_select=4, sort='RMSE')"
   ]
  },
  {
   "cell_type": "code",
   "execution_count": null,
   "id": "458f9f70-88e3-4d60-bb1f-5ee38e92063e",
   "metadata": {},
   "outputs": [],
   "source": [
    "best_models"
   ]
  },
  {
   "cell_type": "markdown",
   "id": "7b1d0ab4-630d-48fe-988f-b8189932f62b",
   "metadata": {},
   "source": [
    "# Hyperparameter tuning"
   ]
  },
  {
   "cell_type": "code",
   "execution_count": null,
   "id": "545321a0-6a75-46de-9448-e0df92a207e9",
   "metadata": {},
   "outputs": [],
   "source": [
    "tuned_best_model = tune_model(best_models, optimize='RMSE', n_iter=2)"
   ]
  },
  {
   "cell_type": "markdown",
   "id": "347a82a9-1c23-48cd-8e42-2dcb6c228003",
   "metadata": {},
   "source": [
    "# Combining models"
   ]
  },
  {
   "cell_type": "code",
   "execution_count": null,
   "id": "a1492806-d8d2-42ba-8b62-a5a87734879f",
   "metadata": {},
   "outputs": [],
   "source": [
    "blender = stack_models(estimator_list=tuned_best_model[1:], meta_model=tuned_best_model[0])"
   ]
  },
  {
   "cell_type": "markdown",
   "id": "fb58a8f2-3fb4-43c0-9bd8-faf3f776e361",
   "metadata": {},
   "source": [
    "# Analyze results"
   ]
  },
  {
   "cell_type": "code",
   "execution_count": null,
   "id": "fc8ac52c-d565-41cc-80ce-3dbd06923627",
   "metadata": {},
   "outputs": [],
   "source": [
    "plot_model(tuned_best_model)"
   ]
  },
  {
   "cell_type": "code",
   "execution_count": null,
   "id": "28c8fcd8-4b6d-4d36-9414-fdf3f13c5afb",
   "metadata": {},
   "outputs": [],
   "source": [
    "plot_model(tuned_best_model, plot = 'error')"
   ]
  },
  {
   "cell_type": "code",
   "execution_count": null,
   "id": "17c0e4ea-7f11-4472-9cc6-2d007735f632",
   "metadata": {},
   "outputs": [],
   "source": [
    "#Feature importance scores can be used to select which features to ignore (lowest scores) and which ones to keep (highest scores)\n",
    "plot_model(tuned_best_model, plot='feature')"
   ]
  },
  {
   "cell_type": "markdown",
   "id": "b0c41387-71af-41c9-9a47-f753ac0bd6db",
   "metadata": {},
   "source": [
    "# Export model"
   ]
  },
  {
   "cell_type": "code",
   "execution_count": null,
   "id": "ba094603-3791-4e95-a15d-3c4258e637b4",
   "metadata": {},
   "outputs": [],
   "source": [
    "save_model(tuned_best_model,'final_model')"
   ]
  }
 ],
 "metadata": {
  "kernelspec": {
   "display_name": "Python (py158)",
   "language": "python",
   "name": "py158"
  },
  "language_info": {
   "codemirror_mode": {
    "name": "ipython",
    "version": 3
   },
   "file_extension": ".py",
   "mimetype": "text/x-python",
   "name": "python",
   "nbconvert_exporter": "python",
   "pygments_lexer": "ipython3",
   "version": "3.9.7"
  }
 },
 "nbformat": 4,
 "nbformat_minor": 5
}
