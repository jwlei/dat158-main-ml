{
 "cells": [
  {
   "cell_type": "markdown",
   "metadata": {},
   "source": [
    "Alexander S. Lundervold, September 22nd, 2020"
   ]
  },
  {
   "cell_type": "markdown",
   "metadata": {
    "toc": true
   },
   "source": [
    "<h1>Table of Contents<span class=\"tocSkip\"></span></h1>\n",
    "<div class=\"toc\"><ul class=\"toc-item\"><li><span><a href=\"#Introduction\" data-toc-modified-id=\"Introduction-1\"><span class=\"toc-item-num\">1&nbsp;&nbsp;</span>Introduction</a></span><ul class=\"toc-item\"><li><span><a href=\"#Classification\" data-toc-modified-id=\"Classification-1.1\"><span class=\"toc-item-num\">1.1&nbsp;&nbsp;</span>Classification</a></span></li><li><span><a href=\"#Regression\" data-toc-modified-id=\"Regression-1.2\"><span class=\"toc-item-num\">1.2&nbsp;&nbsp;</span>Regression</a></span></li><li><span><a href=\"#Classification-or-regression?\" data-toc-modified-id=\"Classification-or-regression?-1.3\"><span class=\"toc-item-num\">1.3&nbsp;&nbsp;</span>Classification or regression?</a></span></li></ul></li><li><span><a href=\"#Setup\" data-toc-modified-id=\"Setup-2\"><span class=\"toc-item-num\">2&nbsp;&nbsp;</span>Setup</a></span></li><li><span><a href=\"#The-data:-MNIST\" data-toc-modified-id=\"The-data:-MNIST-3\"><span class=\"toc-item-num\">3&nbsp;&nbsp;</span>The data: MNIST</a></span></li><li><span><a href=\"#Download-the-data\" data-toc-modified-id=\"Download-the-data-4\"><span class=\"toc-item-num\">4&nbsp;&nbsp;</span>Download the data</a></span></li><li><span><a href=\"#Creating-training-and-test-sets\" data-toc-modified-id=\"Creating-training-and-test-sets-5\"><span class=\"toc-item-num\">5&nbsp;&nbsp;</span>Creating training and test sets</a></span></li><li><span><a href=\"#Inspect-the-data\" data-toc-modified-id=\"Inspect-the-data-6\"><span class=\"toc-item-num\">6&nbsp;&nbsp;</span>Inspect the data</a></span></li><li><span><a href=\"#A-binary-classifier\" data-toc-modified-id=\"A-binary-classifier-7\"><span class=\"toc-item-num\">7&nbsp;&nbsp;</span>A binary classifier</a></span><ul class=\"toc-item\"><li><span><a href=\"#Training-a-model\" data-toc-modified-id=\"Training-a-model-7.1\"><span class=\"toc-item-num\">7.1&nbsp;&nbsp;</span>Training a model</a></span></li></ul></li><li><span><a href=\"#Evaluating-models-/-performance-measures\" data-toc-modified-id=\"Evaluating-models-/-performance-measures-8\"><span class=\"toc-item-num\">8&nbsp;&nbsp;</span>Evaluating models / performance measures</a></span><ul class=\"toc-item\"><li><span><a href=\"#Accuracy-and-different-sorts-of-errors\" data-toc-modified-id=\"Accuracy-and-different-sorts-of-errors-8.1\"><span class=\"toc-item-num\">8.1&nbsp;&nbsp;</span>Accuracy and different sorts of errors</a></span></li><li><span><a href=\"#Validation-set-and-model-selection\" data-toc-modified-id=\"Validation-set-and-model-selection-8.2\"><span class=\"toc-item-num\">8.2&nbsp;&nbsp;</span>Validation set and model selection</a></span></li><li><span><a href=\"#Cross-validation\" data-toc-modified-id=\"Cross-validation-8.3\"><span class=\"toc-item-num\">8.3&nbsp;&nbsp;</span>Cross-validation</a></span></li><li><span><a href=\"#Confusion-matrix\" data-toc-modified-id=\"Confusion-matrix-8.4\"><span class=\"toc-item-num\">8.4&nbsp;&nbsp;</span>Confusion matrix</a></span></li><li><span><a href=\"#Precision,-recall-and-specificity\" data-toc-modified-id=\"Precision,-recall-and-specificity-8.5\"><span class=\"toc-item-num\">8.5&nbsp;&nbsp;</span>Precision, recall and specificity</a></span><ul class=\"toc-item\"><li><span><a href=\"#Connection-to-the-confusion-matrix\" data-toc-modified-id=\"Connection-to-the-confusion-matrix-8.5.1\"><span class=\"toc-item-num\">8.5.1&nbsp;&nbsp;</span>Connection to the confusion matrix</a></span></li><li><span><a href=\"#In-scikit-learn\" data-toc-modified-id=\"In-scikit-learn-8.5.2\"><span class=\"toc-item-num\">8.5.2&nbsp;&nbsp;</span>In scikit-learn</a></span></li></ul></li><li><span><a href=\"#$F_1$-score\" data-toc-modified-id=\"$F_1$-score-8.6\"><span class=\"toc-item-num\">8.6&nbsp;&nbsp;</span>$F_1$ score</a></span></li><li><span><a href=\"#Precision/recall-tradeoff\" data-toc-modified-id=\"Precision/recall-tradeoff-8.7\"><span class=\"toc-item-num\">8.7&nbsp;&nbsp;</span>Precision/recall tradeoff</a></span></li><li><span><a href=\"#ROC-curves\" data-toc-modified-id=\"ROC-curves-8.8\"><span class=\"toc-item-num\">8.8&nbsp;&nbsp;</span>ROC curves</a></span></li><li><span><a href=\"#Comparing-classifiers\" data-toc-modified-id=\"Comparing-classifiers-8.9\"><span class=\"toc-item-num\">8.9&nbsp;&nbsp;</span>Comparing classifiers</a></span></li><li><span><a href=\"#Summary-so-far\" data-toc-modified-id=\"Summary-so-far-8.10\"><span class=\"toc-item-num\">8.10&nbsp;&nbsp;</span>Summary so far</a></span></li></ul></li><li><span><a href=\"#Multiclass-model:-detecting-more-than-5s\" data-toc-modified-id=\"Multiclass-model:-detecting-more-than-5s-9\"><span class=\"toc-item-num\">9&nbsp;&nbsp;</span>Multiclass model: detecting more than 5s</a></span><ul class=\"toc-item\"><li><span><a href=\"#Evaluation\" data-toc-modified-id=\"Evaluation-9.1\"><span class=\"toc-item-num\">9.1&nbsp;&nbsp;</span>Evaluation</a></span><ul class=\"toc-item\"><li><span><a href=\"#Cross-validation\" data-toc-modified-id=\"Cross-validation-9.1.1\"><span class=\"toc-item-num\">9.1.1&nbsp;&nbsp;</span>Cross-validation</a></span></li><li><span><a href=\"#Accuracy-on-the-test-set\" data-toc-modified-id=\"Accuracy-on-the-test-set-9.1.2\"><span class=\"toc-item-num\">9.1.2&nbsp;&nbsp;</span>Accuracy on the test set</a></span></li><li><span><a href=\"#Confusion-matrix\" data-toc-modified-id=\"Confusion-matrix-9.1.3\"><span class=\"toc-item-num\">9.1.3&nbsp;&nbsp;</span>Confusion matrix</a></span></li></ul></li></ul></li><li><span><a href=\"#Error-analysis\" data-toc-modified-id=\"Error-analysis-10\"><span class=\"toc-item-num\">10&nbsp;&nbsp;</span>Error analysis</a></span><ul class=\"toc-item\"><li><span><a href=\"#Analyzing-individual-errors\" data-toc-modified-id=\"Analyzing-individual-errors-10.1\"><span class=\"toc-item-num\">10.1&nbsp;&nbsp;</span>Analyzing individual errors</a></span></li></ul></li><li><span><a href=\"#End\" data-toc-modified-id=\"End-11\"><span class=\"toc-item-num\">11&nbsp;&nbsp;</span>End</a></span></li></ul></div>"
   ]
  },
  {
   "cell_type": "markdown",
   "metadata": {
    "heading_collapsed": true
   },
   "source": [
    "# Introduction"
   ]
  },
  {
   "cell_type": "markdown",
   "metadata": {
    "hidden": true
   },
   "source": [
    "This notebook goes through some core concepts related to **classification** in machine learning. It's based on the textbook's Chapter 3. See also Geron's notebook here: https://github.com/ageron/handson-ml2/blob/master/03_classification.ipynb. "
   ]
  },
  {
   "cell_type": "markdown",
   "metadata": {
    "heading_collapsed": true,
    "hidden": true
   },
   "source": [
    "## Classification"
   ]
  },
  {
   "cell_type": "markdown",
   "metadata": {
    "hidden": true
   },
   "source": [
    "In classification we want to decide which of N classes an input belongs to (think of the dogs from the slides in the first lecture). We'll do this by training models on a set of examples of each class. \n",
    "\n",
    "Essentially, it's about finding a *good* function from the inputs $X$ to a set of labels: \n",
    "\n",
    "$$f: X \\longrightarrow \\{1, \\dots, N\\}.$$\n",
    "\n",
    "Note that classification is a *discrete* problem: each input belongs to a class, and the set of classes cover all possibilities. "
   ]
  },
  {
   "cell_type": "markdown",
   "metadata": {
    "hidden": true
   },
   "source": [
    "It's one of the two main forms of **supervised learning**, the other one being **regression**."
   ]
  },
  {
   "cell_type": "markdown",
   "metadata": {
    "heading_collapsed": true,
    "hidden": true
   },
   "source": [
    "## Regression"
   ]
  },
  {
   "cell_type": "markdown",
   "metadata": {
    "hidden": true
   },
   "source": [
    "Regression is about finding a function that maps from the inputs to a *continuous* set of numbers:\n",
    "\n",
    "$$f: X \\longrightarrow \\mathbb{R}.$$\n",
    "\n",
    "Think of the housing prices prediction from assignment 1, where you're constructing a function mapping from a set of features of a housing district to the price of a house in that district. Or, more generally, say you have a set of $x$-values (inputs) and corresponding outputs as real numbers ($y$-values). When given a new, previously unseen $x$-value, what $y$-value should you predict? What is the best interpolating function? "
   ]
  },
  {
   "cell_type": "markdown",
   "metadata": {
    "heading_collapsed": true,
    "hidden": true
   },
   "source": [
    "## Classification or regression?"
   ]
  },
  {
   "cell_type": "markdown",
   "metadata": {
    "hidden": true
   },
   "source": [
    "How do you decide whether you have a classification or a regression problem? Ask yourself\n",
    "> Is there continuity on the possible predictions?"
   ]
  },
  {
   "cell_type": "markdown",
   "metadata": {
    "hidden": true
   },
   "source": [
    "Predicting a price of 1.500.000 versus 1.500.001 makes a very small difference, suggesting that you're faced with a regression problem. Predicting that an image contains object number 12 versus object number 13 likely makes a huge difference, and you should probably treat this as a classification problem."
   ]
  },
  {
   "cell_type": "markdown",
   "metadata": {
    "heading_collapsed": true
   },
   "source": [
    "# Setup"
   ]
  },
  {
   "cell_type": "code",
   "execution_count": null,
   "metadata": {
    "hidden": true
   },
   "outputs": [],
   "source": [
    "# To automatically reload modules defined in external files\n",
    "%reload_ext autoreload\n",
    "%autoreload 2\n",
    "\n",
    "# To display plots directly in the notebook:\n",
    "%matplotlib inline"
   ]
  },
  {
   "cell_type": "markdown",
   "metadata": {
    "hidden": true
   },
   "source": [
    "We import our standard framework:"
   ]
  },
  {
   "cell_type": "code",
   "execution_count": null,
   "metadata": {
    "hidden": true
   },
   "outputs": [],
   "source": [
    "import numpy as np\n",
    "import pandas as pd\n",
    "import matplotlib.pyplot as plt\n",
    "import matplotlib\n",
    "import sklearn"
   ]
  },
  {
   "cell_type": "markdown",
   "metadata": {
    "heading_collapsed": true
   },
   "source": [
    "# The data: MNIST"
   ]
  },
  {
   "cell_type": "markdown",
   "metadata": {
    "hidden": true
   },
   "source": [
    "We'll base our discussion on a famous benchmark dataset: **MNIST**"
   ]
  },
  {
   "cell_type": "code",
   "execution_count": 1,
   "metadata": {
    "hidden": true
   },
   "outputs": [
    {
     "data": {
      "image/png": "[encoded data removed]",
      "text/plain": [
       "<IPython.core.display.Image object>"
      ]
     },
     "execution_count": 1,
     "metadata": {
      "image/png": {
       "width": "90%"
      }
     },
     "output_type": "execute_result"
    }
   ],
   "source": [
    "import IPython\n",
    "IPython.display.Image('assets/MnistExamples.png', width='90%')"
   ]
  },
  {
   "cell_type": "markdown",
   "metadata": {
    "hidden": true
   },
   "source": [
    "It consists of 70.000 examples of handwritten digits. MNIST has been called \"the machine learning equivalent of fruit flies\": it's simple, but not too simple, and is very well-studied. Have a look at https://en.wikipedia.org/wiki/MNIST_database and http://yann.lecun.com/exdb/mnist/ for more details.\n",
    "\n",
    "Our goal is to construct a system that can take an image from MNIST as input and produce the correct digit 0, ..., 9 as output. This is a multi-class system."
   ]
  },
  {
   "cell_type": "markdown",
   "metadata": {
    "hidden": true
   },
   "source": [
    "<centering>\n",
    "<img src=\"assets/goal.png\">\n",
    "</centering>"
   ]
  },
  {
   "cell_type": "markdown",
   "metadata": {
    "hidden": true
   },
   "source": [
    "Correctly classifying handwritten digits is a difficult problem.. Can you come up with features that characterizes all the number 2's, but none of the other digits? How can you program rules that detect only 2's?"
   ]
  },
  {
   "cell_type": "code",
   "execution_count": 2,
   "metadata": {
    "hidden": true
   },
   "outputs": [
    {
     "data": {
      "image/png": "[encoded data removed]",
      "text/plain": [
       "<IPython.core.display.Image object>"
      ]
     },
     "execution_count": 2,
     "metadata": {
      "image/png": {
       "width": "90%"
      }
     },
     "output_type": "execute_result"
    }
   ],
   "source": [
    "import IPython\n",
    "IPython.display.Image('assets/mnist-difficult.png', width='90%')"
   ]
  },
  {
   "cell_type": "markdown",
   "metadata": {
    "hidden": true
   },
   "source": [
    "<span style=\"font-size:smaller\">Image from G. Hinton's Coursera course [Neural Networks for Machine Learning](https://www.coursera.org/learn/neural-networks)</span>"
   ]
  },
  {
   "cell_type": "markdown",
   "metadata": {
    "heading_collapsed": true
   },
   "source": [
    "# Download the data"
   ]
  },
  {
   "cell_type": "markdown",
   "metadata": {
    "hidden": true
   },
   "source": [
    "[OpenML](https://www.openml.org/) is a convenient source of machine learning data, containing MNIST among many other standard data sets. Scikit-learn has a method we can use to fetch data from OpenML:"
   ]
  },
  {
   "cell_type": "code",
   "execution_count": null,
   "metadata": {
    "hidden": true
   },
   "outputs": [],
   "source": [
    "from sklearn.datasets import fetch_openml"
   ]
  },
  {
   "cell_type": "code",
   "execution_count": null,
   "metadata": {
    "hidden": true
   },
   "outputs": [],
   "source": [
    "mnist = fetch_openml('mnist_784', version=1, data_home='./data')"
   ]
  },
  {
   "cell_type": "markdown",
   "metadata": {
    "hidden": true
   },
   "source": [
    "This gives us a Python dictionary containing the data, labels and a description of the data set:"
   ]
  },
  {
   "cell_type": "code",
   "execution_count": null,
   "metadata": {
    "hidden": true
   },
   "outputs": [],
   "source": [
    "mnist.keys()"
   ]
  },
  {
   "cell_type": "code",
   "execution_count": null,
   "metadata": {
    "hidden": true
   },
   "outputs": [],
   "source": [
    "#print(mnist.DESCR)"
   ]
  },
  {
   "cell_type": "markdown",
   "metadata": {
    "hidden": true
   },
   "source": [
    "Each of the 70.000 images are of size 28*28 = 784, stored as Numpy arrays:"
   ]
  },
  {
   "cell_type": "code",
   "execution_count": null,
   "metadata": {
    "hidden": true
   },
   "outputs": [],
   "source": [
    "mnist.data.shape"
   ]
  },
  {
   "cell_type": "code",
   "execution_count": null,
   "metadata": {
    "hidden": true
   },
   "outputs": [],
   "source": [
    "type(mnist.data)"
   ]
  },
  {
   "cell_type": "code",
   "execution_count": null,
   "metadata": {
    "hidden": true
   },
   "outputs": [],
   "source": [
    "mnist.target.shape"
   ]
  },
  {
   "cell_type": "code",
   "execution_count": null,
   "metadata": {
    "hidden": true
   },
   "outputs": [],
   "source": [
    "X = mnist.data\n",
    "y = mnist.target"
   ]
  },
  {
   "cell_type": "markdown",
   "metadata": {
    "heading_collapsed": true
   },
   "source": [
    "# Creating training and test sets"
   ]
  },
  {
   "cell_type": "markdown",
   "metadata": {
    "hidden": true
   },
   "source": [
    "After collecting the data, the first step is to set aside a test set. The data in the test set will not be used for anything else than the final test of our machine learning model's accuracy. Using the test set during model design is a huge no-no since this will give a biased performance estimate when evaluating our model on the test set (i.e. we'll overfit to the test data set). "
   ]
  },
  {
   "cell_type": "markdown",
   "metadata": {
    "hidden": true
   },
   "source": [
    "> We're not interested in how well our models perform on the training set, what we're really after is how well they generalize to unseen data. \n",
    "\n",
    "The test set is meant to simulate unseen data (and should therefore not be touched when constructing and tuning our models). \n",
    "\n",
    "<img width=50% src=\"assets/testsplit.png\"> "
   ]
  },
  {
   "cell_type": "markdown",
   "metadata": {
    "hidden": true
   },
   "source": [
    "We'll use the first 60.000 images as our training data and the last 10.000 as test (this is the standard split for MNIST):"
   ]
  },
  {
   "cell_type": "code",
   "execution_count": null,
   "metadata": {
    "hidden": true
   },
   "outputs": [],
   "source": [
    "X_train, X_test, y_train, y_test = X[:60000], X[60000:], y[:60000], y[60000:]"
   ]
  },
  {
   "cell_type": "markdown",
   "metadata": {
    "heading_collapsed": true
   },
   "source": [
    "# Inspect the data"
   ]
  },
  {
   "cell_type": "markdown",
   "metadata": {
    "hidden": true
   },
   "source": [
    "As always, we should take a look at the training data. Having a feeling for the variation and quality of the data, and the difficulty of the task, is crucial for constructing machine learning models. When dealing with images it's of course convenient to plot them."
   ]
  },
  {
   "cell_type": "code",
   "execution_count": null,
   "metadata": {
    "hidden": true
   },
   "outputs": [],
   "source": [
    "some_digit = X_train[34500]"
   ]
  },
  {
   "cell_type": "markdown",
   "metadata": {
    "hidden": true
   },
   "source": [
    "The images are vectors of length 784:"
   ]
  },
  {
   "cell_type": "code",
   "execution_count": null,
   "metadata": {
    "hidden": true
   },
   "outputs": [],
   "source": [
    "some_digit.shape"
   ]
  },
  {
   "cell_type": "code",
   "execution_count": null,
   "metadata": {
    "hidden": true
   },
   "outputs": [],
   "source": [
    "28*28"
   ]
  },
  {
   "cell_type": "markdown",
   "metadata": {
    "hidden": true
   },
   "source": [
    "To plot them we reshape to 28*28:"
   ]
  },
  {
   "cell_type": "code",
   "execution_count": null,
   "metadata": {
    "hidden": true
   },
   "outputs": [],
   "source": [
    "some_digit_image = some_digit.reshape(28,28)"
   ]
  },
  {
   "cell_type": "markdown",
   "metadata": {
    "hidden": true
   },
   "source": [
    "Here's a small section of the image:"
   ]
  },
  {
   "cell_type": "code",
   "execution_count": null,
   "metadata": {
    "hidden": true
   },
   "outputs": [],
   "source": [
    "some_digit_image[15:20,15:20]"
   ]
  },
  {
   "cell_type": "markdown",
   "metadata": {
    "hidden": true
   },
   "source": [
    "The numbers represent grayscale values."
   ]
  },
  {
   "cell_type": "code",
   "execution_count": null,
   "metadata": {
    "hidden": true
   },
   "outputs": [],
   "source": [
    "# Plot the image using a grayscale colormap\n",
    "plt.imshow(some_digit_image, cmap=matplotlib.cm.binary)\n",
    "plt.axis('off')\n",
    "plt.show()"
   ]
  },
  {
   "cell_type": "markdown",
   "metadata": {
    "hidden": true
   },
   "source": [
    "Let's make a small convenience function to plot MNIST images:"
   ]
  },
  {
   "cell_type": "code",
   "execution_count": null,
   "metadata": {
    "hidden": true
   },
   "outputs": [],
   "source": [
    "def plot_digit(data):\n",
    "    image = data.reshape(28,28)\n",
    "    plt.imshow(image, cmap=matplotlib.cm.binary)\n",
    "    plt.axis(\"Off\")"
   ]
  },
  {
   "cell_type": "code",
   "execution_count": null,
   "metadata": {
    "hidden": true
   },
   "outputs": [],
   "source": [
    "plot_digit(X_train[1234])"
   ]
  },
  {
   "cell_type": "markdown",
   "metadata": {
    "hidden": true
   },
   "source": [
    "...and plot a random selection:"
   ]
  },
  {
   "cell_type": "code",
   "execution_count": null,
   "metadata": {
    "hidden": true
   },
   "outputs": [],
   "source": [
    "import random"
   ]
  },
  {
   "cell_type": "code",
   "execution_count": null,
   "metadata": {
    "hidden": true
   },
   "outputs": [],
   "source": [
    "nb=10\n",
    "to_plot = random.choices(X_train, k=nb)"
   ]
  },
  {
   "cell_type": "code",
   "execution_count": null,
   "metadata": {
    "hidden": true
   },
   "outputs": [],
   "source": [
    "f = plt.figure(figsize=(14,14))\n",
    "for i in range(nb):\n",
    "    plt.subplot(1,nb,i+1)\n",
    "    plot_digit(to_plot[i])\n",
    "plt.show()"
   ]
  },
  {
   "cell_type": "markdown",
   "metadata": {
    "hidden": true
   },
   "source": [
    "> **Your turn!** Make a function that plots a random selection of images from a specified class. For example `plot_images(image_class='8', nb=25)` should plot 25 random 8's from the training data:\n",
    "\n",
    "<img src=\"assets/plot_images.png\">\n",
    "\n",
    "You'll want to create such small throwaway helper functions all the time when you're investigating a new data set."
   ]
  },
  {
   "cell_type": "markdown",
   "metadata": {
    "heading_collapsed": true
   },
   "source": [
    "# A binary classifier"
   ]
  },
  {
   "cell_type": "markdown",
   "metadata": {
    "hidden": true
   },
   "source": [
    "Following the textbook, we start by constructing a binary classifier: a system that aims to distinguish 5's from non-5's. This makes things a bit easier, and will also help illustrate some important concepts."
   ]
  },
  {
   "cell_type": "code",
   "execution_count": null,
   "metadata": {
    "hidden": true
   },
   "outputs": [],
   "source": [
    "y_train_5 = (y_train == '5') # True if the label is 5, else False\n",
    "y_test_5 = (y_test == '5')"
   ]
  },
  {
   "cell_type": "markdown",
   "metadata": {
    "heading_collapsed": true,
    "hidden": true
   },
   "source": [
    "## Training a model"
   ]
  },
  {
   "cell_type": "markdown",
   "metadata": {
    "hidden": true
   },
   "source": [
    "We have a lot of choices when building our model, something we'll learn more about in Part 2 of the course. For now, let's use `SGDClassifier` as a \"black box\", without studying how it works behind the scenes (but feel free to read more about the model [here](http://scikit-learn.org/stable/modules/sgd.html)). Our focus now is on classification in general, not on specific models. "
   ]
  },
  {
   "cell_type": "code",
   "execution_count": null,
   "metadata": {
    "hidden": true
   },
   "outputs": [],
   "source": [
    "from sklearn.linear_model import SGDClassifier"
   ]
  },
  {
   "cell_type": "code",
   "execution_count": null,
   "metadata": {
    "hidden": true
   },
   "outputs": [],
   "source": [
    "#?SGDClassifier"
   ]
  },
  {
   "cell_type": "code",
   "execution_count": null,
   "metadata": {
    "hidden": true
   },
   "outputs": [],
   "source": [
    "# Create an instance of the model:\n",
    "sgd_clf = SGDClassifier()"
   ]
  },
  {
   "cell_type": "code",
   "execution_count": null,
   "metadata": {
    "hidden": true
   },
   "outputs": [],
   "source": [
    "# Train the model:\n",
    "sgd_clf.fit(X_train, y_train_5)"
   ]
  },
  {
   "cell_type": "markdown",
   "metadata": {
    "hidden": true
   },
   "source": [
    "The model is now trained on the training data, and we can use it to predict whether a digit is a 5 or not:"
   ]
  },
  {
   "cell_type": "code",
   "execution_count": null,
   "metadata": {
    "hidden": true
   },
   "outputs": [],
   "source": [
    "def predict_image(img):\n",
    "    \n",
    "    # Plot the input image\n",
    "    plot_digit(img)\n",
    "    plt.title(\"Input image\")\n",
    "    plt.show()\n",
    "    \n",
    "    # Produce and print prediction\n",
    "    pred = sgd_clf.predict([img])\n",
    "    print(f\"Is 5 prediction: {pred[0]}\")"
   ]
  },
  {
   "cell_type": "code",
   "execution_count": null,
   "metadata": {
    "hidden": true
   },
   "outputs": [],
   "source": [
    "predict_image(X_test[10])"
   ]
  },
  {
   "cell_type": "code",
   "execution_count": null,
   "metadata": {
    "hidden": true
   },
   "outputs": [],
   "source": [
    "predict_image(X_test[15])"
   ]
  },
  {
   "cell_type": "markdown",
   "metadata": {
    "hidden": true
   },
   "source": [
    "By experimenting with various input images you'll notice that the model is correct some times, incorrect others. \n",
    "> **How good is the model, really?** \n",
    "\n",
    "We need ways to evaluate and validate models.."
   ]
  },
  {
   "cell_type": "markdown",
   "metadata": {
    "heading_collapsed": true
   },
   "source": [
    "# Evaluating models / performance measures"
   ]
  },
  {
   "cell_type": "markdown",
   "metadata": {
    "hidden": true
   },
   "source": [
    "First of all, when evaluating the performance of a model one should really ask \"*What is the end goal for my system\"?* We're supposed to create systems that are useful in some context, as part of a larger system, which typically has a higher-level goal that our system should aim to optimize. Perhaps it's worth sacrificing accuracy for speed, or not getting a lot of useless clicks that don't lead to sales?\n",
    "\n",
    "However, we won't think about these broader context matters in this toy problem."
   ]
  },
  {
   "cell_type": "markdown",
   "metadata": {
    "heading_collapsed": true,
    "hidden": true
   },
   "source": [
    "## Accuracy and different sorts of errors"
   ]
  },
  {
   "cell_type": "markdown",
   "metadata": {
    "hidden": true
   },
   "source": [
    "For classification a common metric is accuracy: what fraction of our predictions were correct? \n",
    "\n",
    "But there are different kinds of errors in binary classification: if we classify something as belonging to the positive class we can either be correct (**true positive**) or incorrect (**false positive**). If we classify something as negative we can either be correct (**true negative**) or incorrect (**false negative**). \n",
    "\n",
    "What types of errors we care most about depends on the task: if we're for example diagnosing a treatable condition in patients we should do everything we can to reduce the rate of false negatives. While perhaps still keeping an eye on the false positive rate because a positive diagnosis could lead to invasive and extensive further testing for the patient.\n",
    "\n",
    "In spam filtering we care most about not marking important emails as spam, i.e. we want a low false positive rate (non-spam marked as spam) even if it means a higher false negative rate (some spam emails ending up in our inbox). "
   ]
  },
  {
   "cell_type": "markdown",
   "metadata": {
    "heading_collapsed": true,
    "hidden": true
   },
   "source": [
    "## Validation set and model selection"
   ]
  },
  {
   "cell_type": "markdown",
   "metadata": {
    "hidden": true
   },
   "source": [
    "We're now going to play around with different models and their \"settings\" (i.e. changeable parameters) to decide which model to use. This is called \"model selection\". \n",
    "\n",
    "\n",
    "It's very important to *not* base these decisions on test set performance. Otherwise we'll have no way to produce an unbiased estimate of how well the final model will generalize to new data, as we've used information from our test set to design the model.\n",
    "\n",
    "We can deal with this issue by splitting the training set into two: a data set used for training (still called the training set) and a data set for evaluating performance while trying out various possible models and settings, called a **validation set**."
   ]
  },
  {
   "cell_type": "markdown",
   "metadata": {
    "hidden": true
   },
   "source": [
    "We've seen this idea used earlier in the course, and we know how to do this using the `train_test_split` function."
   ]
  },
  {
   "cell_type": "code",
   "execution_count": null,
   "metadata": {
    "hidden": true
   },
   "outputs": [],
   "source": [
    "import IPython\n",
    "IPython.display.Image('assets/trainvaltestset.png', width='40%')"
   ]
  },
  {
   "cell_type": "markdown",
   "metadata": {
    "hidden": true
   },
   "source": [
    "> **Your turn!**\n",
    "- Split `(X_train, y_train_5)` into two parts: one for training, one for validation. You can call the new data sets and label sets `X_train_new, X_val, y_train_5_new, y_val_5`\n",
    "- Train your model again on the new training set, and compute its accuracy on the validation set using the `score` method: `model.score(X_val, y_val_5)` \n",
    "- Is the result good? What accuracy would a random guesser have?\n",
    "- Play around with some of the parameters of `SGDClassifier` and try to improve the result on the validation set. Once you've found some parameters that seem good, test on the test set: `model.predict(X_test)` and `model.score(X_test, y_test_5)` (If you want to be thorough, use grid search to test parameter combinations)."
   ]
  },
  {
   "cell_type": "markdown",
   "metadata": {
    "heading_collapsed": true,
    "hidden": true
   },
   "source": [
    "## Cross-validation"
   ]
  },
  {
   "cell_type": "markdown",
   "metadata": {
    "hidden": true
   },
   "source": [
    "Another frequently used way to do validation is *cross-validation*."
   ]
  },
  {
   "cell_type": "markdown",
   "metadata": {
    "hidden": true
   },
   "source": [
    "The idea is to randomly split the training set into several parts, so called *folds*. Say into K folds, for example. Then train a model K times, each time using a different fold for evaluation and training on the remaining K-1. The average score for the K runs is used to estimate the model's performance. \n",
    "\n",
    "This means that *each sample in the training set is part of the training set K-1 times and the evaluation set once*. \n",
    "\n",
    "<img src=\"assets/K-fold_cross_validation_EN.jpg\"><br>\n",
    "<span style=\"font-size:70%\">Image from <a href=\"https://commons.wikimedia.org/wiki/File:K-fold_cross_validation_EN.jpg\">Wikipedia</a></span>"
   ]
  },
  {
   "cell_type": "markdown",
   "metadata": {
    "hidden": true
   },
   "source": [
    "An important advantage of this approach over the one above is that it doesn't waste as much training data. Unless you have plenty of data, cross-validation is the preferred method for estimating model performance."
   ]
  },
  {
   "cell_type": "markdown",
   "metadata": {
    "hidden": true
   },
   "source": [
    "Cross-validation also provides a more thorough test than splitting the data into a training set and a test set. The `train_test_split` procedure sets aside a fixed random subset of the data as a test set. If we're unlucky, all the difficult examples end up in the training set, while the test set contains only easy ones. That would lead to an overestimate of the true performance of our model."
   ]
  },
  {
   "cell_type": "markdown",
   "metadata": {
    "hidden": true
   },
   "source": [
    "Note: the special case of cross-validation where K is set to the number of data points in the training set is called *leave-one-out*. Each fold is then a single sample.\n",
    "\n",
    "The result of this K-fold cross validation procedure is an array of K evaluation scores.\n",
    "\n",
    "> We'll use the cross-validation approach in the rest of this notebook. "
   ]
  },
  {
   "cell_type": "code",
   "execution_count": null,
   "metadata": {
    "hidden": true
   },
   "outputs": [],
   "source": [
    "from sklearn.model_selection import cross_val_score"
   ]
  },
  {
   "cell_type": "code",
   "execution_count": null,
   "metadata": {
    "hidden": true
   },
   "outputs": [],
   "source": [
    "cv_scores = cross_val_score(sgd_clf, X_train, y_train_5, cv=5, \n",
    "                            scoring='accuracy', n_jobs=-1)"
   ]
  },
  {
   "cell_type": "code",
   "execution_count": null,
   "metadata": {
    "hidden": true
   },
   "outputs": [],
   "source": [
    "print(cv_scores)"
   ]
  },
  {
   "cell_type": "code",
   "execution_count": null,
   "metadata": {
    "hidden": true
   },
   "outputs": [],
   "source": [
    "cv_scores.mean()"
   ]
  },
  {
   "cell_type": "markdown",
   "metadata": {
    "hidden": true
   },
   "source": [
    "The mean accuracy of our model on the five folds is more than 95%, which on the surface looks pretty good!"
   ]
  },
  {
   "cell_type": "markdown",
   "metadata": {
    "hidden": true
   },
   "source": [
    "...but is it really? Remember, there are 10 digits in MNIST, with approximately equal number of images from each class. A subset of the data is therefore expected to contain roughly 10% 5's and 90% non-5's. We're dealing with a highly **unbalanced dataset** (also called a *skewed dataset*). In such cases accuracy is typically not a very informative measure.\n",
    "\n",
    "A model that's always predicting non-5's will have an accuracy of approximately 90%. That makes our model less impressive..."
   ]
  },
  {
   "cell_type": "markdown",
   "metadata": {
    "hidden": true
   },
   "source": [
    "<img width=40% src=\"assets/imbalanced.png\">\n",
    "<span style=\"font-size:60%\">Not exact numbers; only for illustration</span>"
   ]
  },
  {
   "cell_type": "markdown",
   "metadata": {
    "hidden": true
   },
   "source": [
    "Luckily, there's a better way to evaluate the model than merely computing the accuracy!"
   ]
  },
  {
   "cell_type": "markdown",
   "metadata": {
    "hidden": true
   },
   "source": [
    "> **Your turn:** As you learned in Assignment 1, many machine learning models, like the `SGDClassifier`, perform better if the input data is properly scaled. Try using the `StandardScaler` in scikit-learn to standardize the training data. Then feed it through `cross_val_score`. You could also try the `MinMaxScaler`. \n",
    "\n",
    "> Hint: `from sklearn.preprocessing import StandardScaler, MinMaxScaler`. "
   ]
  },
  {
   "cell_type": "markdown",
   "metadata": {
    "heading_collapsed": true,
    "hidden": true
   },
   "source": [
    "## Confusion matrix"
   ]
  },
  {
   "cell_type": "markdown",
   "metadata": {
    "hidden": true
   },
   "source": [
    "A confusion matrix is a table summarizing the results from a classification model's predictions. In what way is the classifier \"confused\"? What errors does it tend to make?\n",
    "\n",
    "The idea is to simply count the number of times instances of a certain class is classified as the various classes in your problem. In our case, how often the 4s and non-5s are correctly classified, how often a 5 is misclassified as a non-5 and how often a non-5 is misclassified as a 5."
   ]
  },
  {
   "cell_type": "markdown",
   "metadata": {
    "hidden": true
   },
   "source": [
    "We need some produce some predictions to compare with the true classes. We can use `cross_val_predict`, which works similarly to `cross_val_score` except that it returns predictions based on all the K folds."
   ]
  },
  {
   "cell_type": "code",
   "execution_count": null,
   "metadata": {
    "hidden": true
   },
   "outputs": [],
   "source": [
    "from sklearn.model_selection import cross_val_predict\n",
    "y_train_pred = cross_val_predict(sgd_clf, X_train, y_train_5, cv=5, n_jobs=-1)"
   ]
  },
  {
   "cell_type": "markdown",
   "metadata": {
    "hidden": true
   },
   "source": [
    "We now want to compare..."
   ]
  },
  {
   "cell_type": "code",
   "execution_count": null,
   "metadata": {
    "hidden": true
   },
   "outputs": [],
   "source": [
    "y_train_pred"
   ]
  },
  {
   "cell_type": "markdown",
   "metadata": {
    "hidden": true
   },
   "source": [
    "...to"
   ]
  },
  {
   "cell_type": "code",
   "execution_count": null,
   "metadata": {
    "hidden": true
   },
   "outputs": [],
   "source": [
    "y_train_5"
   ]
  },
  {
   "cell_type": "markdown",
   "metadata": {
    "hidden": true
   },
   "source": [
    "Here's the confusion matrix:"
   ]
  },
  {
   "cell_type": "code",
   "execution_count": null,
   "metadata": {
    "hidden": true
   },
   "outputs": [],
   "source": [
    "from sklearn.metrics import confusion_matrix"
   ]
  },
  {
   "cell_type": "code",
   "execution_count": null,
   "metadata": {
    "hidden": true
   },
   "outputs": [],
   "source": [
    "cm = confusion_matrix(y_train_5, y_train_pred)\n",
    "print(cm)"
   ]
  },
  {
   "cell_type": "markdown",
   "metadata": {
    "hidden": true
   },
   "source": [
    "Let's use a small function for creating slightly nicer plots of confusion matrices, adapted from http://scikit-learn.org/stable/auto_examples/model_selection/plot_confusion_matrix.html. Don't worry about the details of this function now (unless you want to). "
   ]
  },
  {
   "cell_type": "code",
   "execution_count": null,
   "metadata": {
    "hidden": true
   },
   "outputs": [],
   "source": [
    "import itertools\n",
    "\n",
    "def plot_confusion_matrix(cm, classes, ax=None,\n",
    "                          title='Confusion matrix',\n",
    "                          cmap=plt.cm.Blues, labels=True):\n",
    "    \"\"\"\n",
    "    This function prints and plots the confusion matrix.\n",
    "    Adapted from  http://scikit-learn.org/stable/auto_examples/model_selection/plot_confusion_matrix.html\n",
    "    \"\"\"\n",
    "    \n",
    "    if not ax: fig, ax = plt.subplots(figsize=(8,6))\n",
    "    ax.imshow(cm, interpolation='nearest', cmap=cmap)\n",
    "    tick_marks = np.arange(len(classes))\n",
    "    plt.setp(ax, xticks=tick_marks, xticklabels=classes, \n",
    "             yticks=tick_marks, yticklabels=classes,\n",
    "             title=title, xlabel=\"Predicted label\", \n",
    "             ylabel=\"True label\")\n",
    "    #ax.set_xticks(tick_marks, classes, rotation=45)\n",
    "    #plt.yticks(tick_marks, classes)\n",
    "\n",
    "    if labels:\n",
    "        fmt = 'd'\n",
    "        thresh = cm.max() / 2.\n",
    "        for i, j in itertools.product(range(cm.shape[0]), range(cm.shape[1])):\n",
    "            ax.text(j, i, format(int(cm[i, j]), fmt),\n",
    "                     horizontalalignment=\"center\",\n",
    "                     color=\"white\" if cm[i, j] > thresh else \"black\")\n",
    "\n",
    "    plt.tight_layout()\n",
    "    return ax"
   ]
  },
  {
   "cell_type": "code",
   "execution_count": null,
   "metadata": {
    "hidden": true
   },
   "outputs": [],
   "source": [
    "_ = plot_confusion_matrix(cm, classes=[\"non-5\", '5'])"
   ]
  },
  {
   "cell_type": "markdown",
   "metadata": {
    "hidden": true
   },
   "source": [
    "Each row in the matrix represents a class: non-5s and 5s. Each column represents a predicted class. \n",
    "\n",
    "The first row tells us that more than 50.000 images were correctly classified as non-5s (**true negatives**). There were 500-1000 images classified as 5s that where really non-5s (**false positives**).\n",
    "\n",
    "The second row tells us that about 1000+ 5s were wrongly labelled as non-5s (**false negatives**), while the remaining 5s were correctly classified (**true positives**). "
   ]
  },
  {
   "cell_type": "markdown",
   "metadata": {
    "hidden": true
   },
   "source": [
    "> **Your turn!** How would the confusion matrix of a perfect classifier be?"
   ]
  },
  {
   "cell_type": "markdown",
   "metadata": {
    "hidden": true
   },
   "source": [
    "These numbers tell us a lot about classifier performance. But sometimes it's useful to quantify (i.e. compute numbers) how much our classifier deviates from a perfect classifier."
   ]
  },
  {
   "cell_type": "markdown",
   "metadata": {
    "heading_collapsed": true,
    "hidden": true
   },
   "source": [
    "## Precision, recall and specificity"
   ]
  },
  {
   "cell_type": "markdown",
   "metadata": {
    "hidden": true
   },
   "source": [
    "For binary classification problems, i.e. where there are only two possible classes, we can use **precision**, **recall** and **specificity**."
   ]
  },
  {
   "cell_type": "markdown",
   "metadata": {
    "hidden": true
   },
   "source": [
    "It's helpful to first introduce some notation:\n",
    "\n",
    "- P = All positive data points\n",
    "- N = All negative data points\n",
    "- TP = True positives\n",
    "- FP = False positives\n",
    "- TN = True negatives\n",
    "- FN = False negatives"
   ]
  },
  {
   "cell_type": "markdown",
   "metadata": {
    "hidden": true
   },
   "source": [
    "> **Your turn!** What are the values of these numbers for the classifier above?"
   ]
  },
  {
   "cell_type": "markdown",
   "metadata": {
    "hidden": true
   },
   "source": [
    "The **precision** of a binary classifier is **the proportion of the positive predictions that were actually correct**. In other words, \n",
    "\n",
    "$$precision = \\frac{\\mbox{true positives}}{\\mbox{positive predictions}} = \\frac{TP}{TP + FP}.$$"
   ]
  },
  {
   "cell_type": "markdown",
   "metadata": {
    "hidden": true
   },
   "source": [
    "> **Your turn!** What's the precision of the classifier above? What's the precision of a _perfect_ classifier? If a classifier has perfect precision, is it necessarily a good classifier?"
   ]
  },
  {
   "cell_type": "markdown",
   "metadata": {
    "hidden": true
   },
   "source": [
    "The **recall** of a binary classifier is **the proportion of actual positives that were correctly identified**. In other words, \n",
    "\n",
    "$$recall = \\frac{\\mbox{true positives}}{\\mbox{all actual positives}} = \\frac{TP}{P} = \\frac{TP}{TP+FN}$$\n",
    "\n",
    "Recall is sometimes also called the **true positive rate**."
   ]
  },
  {
   "cell_type": "markdown",
   "metadata": {
    "hidden": true
   },
   "source": [
    "> **Your turn!** What's the recall of the classifier above? What's the recall of a _perfect_ classifier? If a classifier has perfect recall, is it necessarily a good classifier?"
   ]
  },
  {
   "cell_type": "markdown",
   "metadata": {
    "hidden": true
   },
   "source": [
    "The **specificity** of a binary classifier is **the proportion of actual negatives that were correctly identified**. In other words,\n",
    "\n",
    "$$specificity = \\frac{\\mbox{true negatives}}{\\mbox{all actual negatives}} = \\frac{TN}{TN + FP}$$\n",
    "\n",
    "Specificity is sometimes also called the **true negative rate**."
   ]
  },
  {
   "cell_type": "markdown",
   "metadata": {
    "hidden": true
   },
   "source": [
    "> **Your turn!** What's the specificity of the classifier above? What's the specificity of a _perfect_ classifier? If a classifier has perfect specificity, is it necessarily a good classifier?"
   ]
  },
  {
   "cell_type": "markdown",
   "metadata": {
    "hidden": true
   },
   "source": [
    "<img width=40% src=\"assets/Precisionrecall.png\">"
   ]
  },
  {
   "cell_type": "markdown",
   "metadata": {
    "hidden": true
   },
   "source": [
    "<span style=font-size:80%>Illustration from Wikipedia</span>"
   ]
  },
  {
   "cell_type": "markdown",
   "metadata": {
    "heading_collapsed": true,
    "hidden": true
   },
   "source": [
    "### Connection to the confusion matrix"
   ]
  },
  {
   "cell_type": "markdown",
   "metadata": {
    "hidden": true
   },
   "source": [
    "If you think about it for a bit, it's clear that these numbers are closely connected to the confusion matrix:"
   ]
  },
  {
   "cell_type": "markdown",
   "metadata": {
    "hidden": true
   },
   "source": [
    "![](./assets/cm_illustration.png)"
   ]
  },
  {
   "cell_type": "markdown",
   "metadata": {
    "hidden": true
   },
   "source": [
    "<span style=font-size:80%>Illustration from the textbook</span>"
   ]
  },
  {
   "cell_type": "markdown",
   "metadata": {
    "hidden": true
   },
   "source": [
    "We can use this connection to compute the precision, recall and specificity:"
   ]
  },
  {
   "cell_type": "code",
   "execution_count": null,
   "metadata": {
    "hidden": true
   },
   "outputs": [],
   "source": [
    "cm"
   ]
  },
  {
   "cell_type": "code",
   "execution_count": null,
   "metadata": {
    "hidden": true
   },
   "outputs": [],
   "source": [
    "# Here's a way to pick out elements of a two-dimensional array\n",
    "cm[0][0]"
   ]
  },
  {
   "cell_type": "code",
   "execution_count": null,
   "metadata": {
    "hidden": true
   },
   "outputs": [],
   "source": [
    "tn, fp, fn, tp = cm[0][0], cm[0][1], cm[1][0], cm[1][1]"
   ]
  },
  {
   "cell_type": "code",
   "execution_count": null,
   "metadata": {
    "hidden": true
   },
   "outputs": [],
   "source": [
    "tn, fp, fn, tp"
   ]
  },
  {
   "cell_type": "code",
   "execution_count": null,
   "metadata": {
    "hidden": true
   },
   "outputs": [],
   "source": [
    "#..or slightly more conveniently:\n",
    "tn, fp, fn, tp = cm.ravel()\n",
    "tn, fp, fn, tp"
   ]
  },
  {
   "cell_type": "code",
   "execution_count": null,
   "metadata": {
    "hidden": true
   },
   "outputs": [],
   "source": [
    "precision = tp / (tp + fp)\n",
    "recall = tp / (tp + fn)\n",
    "specificity = tn / (tn + fp)"
   ]
  },
  {
   "cell_type": "code",
   "execution_count": null,
   "metadata": {
    "hidden": true
   },
   "outputs": [],
   "source": [
    "print(f\"Precision: {precision}\\n Recall: {recall}\\n Specificity: {specificity}\")"
   ]
  },
  {
   "cell_type": "markdown",
   "metadata": {
    "heading_collapsed": true,
    "hidden": true
   },
   "source": [
    "### In scikit-learn"
   ]
  },
  {
   "cell_type": "markdown",
   "metadata": {
    "hidden": true
   },
   "source": [
    "Of course, scikit-learn has this functionality built-in"
   ]
  },
  {
   "cell_type": "code",
   "execution_count": null,
   "metadata": {
    "hidden": true
   },
   "outputs": [],
   "source": [
    "from sklearn.metrics import precision_score, recall_score"
   ]
  },
  {
   "cell_type": "code",
   "execution_count": null,
   "metadata": {
    "hidden": true
   },
   "outputs": [],
   "source": [
    "precision_score(y_train_5, y_train_pred)"
   ]
  },
  {
   "cell_type": "code",
   "execution_count": null,
   "metadata": {
    "hidden": true
   },
   "outputs": [],
   "source": [
    "recall_score(y_train_5, y_train_pred)"
   ]
  },
  {
   "cell_type": "markdown",
   "metadata": {
    "hidden": true
   },
   "source": [
    "> **Your turn!** What is more important, high precision or high recall?"
   ]
  },
  {
   "cell_type": "markdown",
   "metadata": {
    "hidden": true
   },
   "source": [
    "> **Your turn!** A question to ponder: How would you define precision and recall if you have more than two classes?"
   ]
  },
  {
   "cell_type": "markdown",
   "metadata": {
    "heading_collapsed": true,
    "hidden": true
   },
   "source": [
    "## $F_1$ score"
   ]
  },
  {
   "cell_type": "markdown",
   "metadata": {
    "hidden": true
   },
   "source": [
    "Since you typically care about both precision and recall, it can sometimes make sense to combine them into one number (for example when comparing two classifiers). The **$F_1$ score** is one way, defined as a sort of average of precision and recall. Not the usual average, but what's called the *harmonic mean*:"
   ]
  },
  {
   "cell_type": "markdown",
   "metadata": {
    "hidden": true
   },
   "source": [
    "$$F_1 = \\frac{2}{\\frac{1}{precision} + \\frac{1}{recall}}$$"
   ]
  },
  {
   "cell_type": "markdown",
   "metadata": {
    "hidden": true
   },
   "source": [
    "You may wonder why you would use the harmonic mean instead of the standard (arithmetic) mean. The main reason is that we want to output a low score for a classifier that has either very bad precision or very bad recall (i.e. one of them close to 0). Such classifiers should be punished by assigning them a very low score. \n",
    "\n",
    "For example, if the precision is 0.0001 and the recall is 1, the $F_1$ score will be close to 0, while the artihmetic mean would be (0.0001 + 1) / 2 ~ 0.5. "
   ]
  },
  {
   "cell_type": "markdown",
   "metadata": {
    "hidden": true
   },
   "source": [
    "> **Your turn!** Say you have two classifiers A and B, with\n",
    "\n",
    "$$\n",
    "\\begin{align}\n",
    "\\mbox{precision}_A = 0.7,\\quad &\\mbox{recall}_A = 0.6 \\\\\n",
    "\\mbox{precision}_B = 0.3,\\quad &\\mbox{recall}_B = 1\n",
    "\\end{align}\n",
    "$$\n",
    "\n",
    "> What are the corresponding arithmetic means of the two models? What are their $F_1$ scores? You'll notice that model B's bad precision results in a lower $F_1$ compared to model A."
   ]
  },
  {
   "cell_type": "code",
   "execution_count": null,
   "metadata": {
    "hidden": true
   },
   "outputs": [],
   "source": [
    "from sklearn.metrics import f1_score"
   ]
  },
  {
   "cell_type": "code",
   "execution_count": null,
   "metadata": {
    "hidden": true
   },
   "outputs": [],
   "source": [
    "f1_score(y_train_5, y_train_pred)"
   ]
  },
  {
   "cell_type": "markdown",
   "metadata": {
    "hidden": true
   },
   "source": [
    "An $F_1$ score of 1.0 means perfect precision *and* perfect recall (i.e. a perfect classifier)."
   ]
  },
  {
   "cell_type": "markdown",
   "metadata": {
    "heading_collapsed": true,
    "hidden": true
   },
   "source": [
    "## Precision/recall tradeoff"
   ]
  },
  {
   "cell_type": "markdown",
   "metadata": {
    "hidden": true
   },
   "source": [
    "Importantly, **it's typically impossible to achieve both high precision and high recall simultaneously**. They are typically competing quantities: when one is high the other is low. Working to improve the precision often lowers the model's recall, and vice-versa. You have to trade one for the other.\n",
    "\n",
    "Let's try to understand why"
   ]
  },
  {
   "cell_type": "markdown",
   "metadata": {
    "hidden": true
   },
   "source": [
    "A classifier with perfect recall is easy to construct: just predict that everything is a 5! Then there are no false negatives and the recall is 1.0. Perfect. Except, the precision will be rubish.\n",
    "\n",
    "To get high precision, make a classifier predict *one* 5 that you're very sure is correct, and the rest as non-5s. Then the number of false positives will likely be 0, and the precision 1.0. The recall will however be really bad as there will be many false negatives. "
   ]
  },
  {
   "cell_type": "markdown",
   "metadata": {
    "hidden": true
   },
   "source": [
    "We can see this principle in action for our `SGDClassifier`. But we'll have to discuss what's going on behind the scenes when we ran `sgd_cl.fit` on our training data..."
   ]
  },
  {
   "cell_type": "markdown",
   "metadata": {
    "hidden": true
   },
   "source": [
    "_Fitting_ or _training_ the `SGDClassifier` means finding a _hyperplane_, or a _boundary_, in the data space that separates the 5s from the non-5s as much as possible. \n",
    "\n",
    "When feeding `SGDClassifer` a data point it decides whether it is a 5 or a non-5 bassed on the _distance_ from the data point to this hyperplane. By default, if the data point has a negative distance to the plane, the model predicts that it's from the negative class (a non-5 in our case). If the distance is positive, it's predicted to be from the positive class (a 5). In other words, the **decision threshold** is set to 0 by default. \n",
    "\n",
    "Furthermore, the distance from the data point to the hyperplane can be interpreted as how _certain_ the model is about its prediction. The larger the distance, the more certain the model. "
   ]
  },
  {
   "cell_type": "markdown",
   "metadata": {
    "hidden": true
   },
   "source": [
    "***Where you set the threshold makes a big difference***. We can see this visually here (figure from the textbook): "
   ]
  },
  {
   "cell_type": "markdown",
   "metadata": {
    "hidden": true
   },
   "source": [
    "![](assets/precisionrecalltradeoff.png)"
   ]
  },
  {
   "cell_type": "markdown",
   "metadata": {
    "hidden": true
   },
   "source": [
    "...and do some experiments on an example to investigate further:"
   ]
  },
  {
   "cell_type": "code",
   "execution_count": null,
   "metadata": {
    "hidden": true
   },
   "outputs": [],
   "source": [
    "plot_digit(X_train[0])"
   ]
  },
  {
   "cell_type": "markdown",
   "metadata": {
    "hidden": true
   },
   "source": [
    "`SGDClassifier` has a method that computes the distance of a data point from the hyperplane:"
   ]
  },
  {
   "cell_type": "code",
   "execution_count": null,
   "metadata": {
    "hidden": true
   },
   "outputs": [],
   "source": [
    "y_example_score = sgd_clf.decision_function([X_train[0]])"
   ]
  },
  {
   "cell_type": "code",
   "execution_count": null,
   "metadata": {
    "hidden": true
   },
   "outputs": [],
   "source": [
    "print(y_example_score)"
   ]
  },
  {
   "cell_type": "markdown",
   "metadata": {
    "hidden": true
   },
   "source": [
    "Let's play with the threshold:"
   ]
  },
  {
   "cell_type": "code",
   "execution_count": null,
   "metadata": {
    "hidden": true
   },
   "outputs": [],
   "source": [
    "threshold = 0\n",
    "y_example_pred = (y_example_score > threshold)\n",
    "print(f\"Is it a 5? {y_example_pred}\")"
   ]
  },
  {
   "cell_type": "code",
   "execution_count": null,
   "metadata": {
    "hidden": true
   },
   "outputs": [],
   "source": [
    "threshold = 5000\n",
    "y_example_pred = (y_example_score > threshold)\n",
    "print(f\"Is it a 5? {y_example_pred}\")"
   ]
  },
  {
   "cell_type": "markdown",
   "metadata": {
    "hidden": true
   },
   "source": [
    "You can see that increasing the threshold for classifying something as a 5 makes the model less likely to do so. *This increases the precision of the classifier, but reduces its recall.* Lowering the threshold has the opposite effect: higher recall, lower precision."
   ]
  },
  {
   "cell_type": "markdown",
   "metadata": {
    "hidden": true
   },
   "source": [
    "Let's plot this.\n",
    "\n",
    "First we compute the decision function score for all the training data:"
   ]
  },
  {
   "cell_type": "code",
   "execution_count": null,
   "metadata": {
    "hidden": true
   },
   "outputs": [],
   "source": [
    "y_scores = cross_val_predict(sgd_clf, X_train, y_train_5, cv=2, method='decision_function')"
   ]
  },
  {
   "cell_type": "markdown",
   "metadata": {
    "hidden": true
   },
   "source": [
    "We get 60.000 scores, one for each training example:"
   ]
  },
  {
   "cell_type": "code",
   "execution_count": null,
   "metadata": {
    "hidden": true
   },
   "outputs": [],
   "source": [
    "y_scores.shape"
   ]
  },
  {
   "cell_type": "markdown",
   "metadata": {
    "hidden": true
   },
   "source": [
    "Now, let's compute and plot the precisions and recalls for various thresholds:"
   ]
  },
  {
   "cell_type": "code",
   "execution_count": null,
   "metadata": {
    "hidden": true
   },
   "outputs": [],
   "source": [
    "from sklearn.metrics import precision_recall_curve\n",
    "\n",
    "precisions, recalls, thresholds = precision_recall_curve(y_train_5, y_scores)"
   ]
  },
  {
   "cell_type": "code",
   "execution_count": null,
   "metadata": {
    "hidden": true
   },
   "outputs": [],
   "source": [
    "def plot_precision_recall_vs_threshold(precisions, recalls, thresholds):\n",
    "    plt.plot(thresholds, precisions[:-1], \"b--\", label=\"Precision\", linewidth=2)\n",
    "    plt.plot(thresholds, recalls[:-1], \"g-\", label=\"Recall\", linewidth=2)\n",
    "    plt.xlabel(\"Threshold\", fontsize=16)\n",
    "    plt.legend(loc=\"upper left\", fontsize=16)\n",
    "    plt.ylim([0, 1])\n",
    "\n",
    "plt.figure(figsize=(10, 6))\n",
    "plot_precision_recall_vs_threshold(precisions, recalls, thresholds)\n",
    "plt.xlim([-100000, 100000])\n",
    "plt.show()"
   ]
  },
  {
   "cell_type": "markdown",
   "metadata": {
    "hidden": true
   },
   "source": [
    "Using such plots it's possible to select the threshold value that gives the best precision/recall tradeoff for your task.\n",
    "\n",
    "Are false negatives very bad (like in medical diagnosis)? Select a low threshold to get high recall and OK precision. Are false positives especially costly (like in spam detection)? Go for a threshold that gives you high precison and OK recall."
   ]
  },
  {
   "cell_type": "markdown",
   "metadata": {
    "hidden": true
   },
   "source": [
    "Note that it's very easy to create a classifier with any precision you want, as long as you don't care about recall. You just have to select a suitable threshold. \n",
    "\n",
    "For example"
   ]
  },
  {
   "cell_type": "code",
   "execution_count": null,
   "metadata": {
    "hidden": true
   },
   "outputs": [],
   "source": [
    "y_train_pred_precise = (y_scores > 20000)\n",
    "precision_score(y_train_5, y_train_pred_precise)"
   ]
  },
  {
   "cell_type": "code",
   "execution_count": null,
   "metadata": {
    "hidden": true
   },
   "outputs": [],
   "source": [
    "recall_score(y_train_5, y_train_pred_precise)"
   ]
  },
  {
   "cell_type": "markdown",
   "metadata": {
    "hidden": true
   },
   "source": [
    "As Geron puts it:\n",
    "\n",
    "> If someone says \"let's reach 90% precision!\", you should ask, \"at what recall?\""
   ]
  },
  {
   "cell_type": "markdown",
   "metadata": {
    "heading_collapsed": true,
    "hidden": true
   },
   "source": [
    "## ROC curves"
   ]
  },
  {
   "cell_type": "markdown",
   "metadata": {
    "hidden": true
   },
   "source": [
    "A **ROC curve** (or **receiver operating characteristic curve**) is a graph that's often used to evaluate binary classifiers. It's a plot of the true positive rate (i.e. the recall) versus the false positive rate:\n",
    "\n",
    "$$\n",
    "TPR = \\frac{TP}{TP + FN}, \\qquad \n",
    "FPR = \\frac{FP}{FP + TN}\n",
    "$$\n",
    "\n",
    "We can compute the TPR and FPR for various thresholds using the `roc_curve` function:"
   ]
  },
  {
   "cell_type": "code",
   "execution_count": null,
   "metadata": {
    "hidden": true
   },
   "outputs": [],
   "source": [
    "from sklearn.metrics import roc_curve\n",
    "fpr, tpr, thresholds = roc_curve(y_train_5, y_scores)"
   ]
  },
  {
   "cell_type": "markdown",
   "metadata": {
    "hidden": true
   },
   "source": [
    "...and plot the ROC curve:"
   ]
  },
  {
   "cell_type": "code",
   "execution_count": null,
   "metadata": {
    "hidden": true
   },
   "outputs": [],
   "source": [
    "def plot_roc_curve(fpr, tpr):\n",
    "    f = plt.figure(figsize=(8,6))\n",
    "    plt.plot(fpr, tpr, linewidth=2)\n",
    "    plt.plot([0, 1], [0, 1], 'k--')\n",
    "    plt.axis([0, 1, 0, 1])\n",
    "    plt.xlabel('FPR', fontsize=14)\n",
    "    plt.ylabel('TPR (recall)', fontsize=14)\n",
    "    \n",
    "plot_roc_curve(fpr, tpr)\n",
    "plt.show()"
   ]
  },
  {
   "cell_type": "markdown",
   "metadata": {
    "hidden": true
   },
   "source": [
    "A really good classifier will have a ROC curve that's very close to the top left corner (high TPR and low FPR for any thresholds), while a completely random classifier will be close to the dotted line (as many true positives as false positives for any threshold).\n",
    "\n",
    "We can use such ROC curves to compute how good a classifier is: if it's really good then the area under the curve will be high (i.e. close to the maximum area which is 1). If it's really bad (i.e. random) the area will be close to 0.5. This is called the **ROCAUC**, the *ROC area under the curve*."
   ]
  },
  {
   "cell_type": "code",
   "execution_count": null,
   "metadata": {
    "hidden": true
   },
   "outputs": [],
   "source": [
    "from sklearn.metrics import roc_auc_score\n",
    "roc_auc_score(y_train_5, y_scores)"
   ]
  },
  {
   "cell_type": "markdown",
   "metadata": {
    "hidden": true
   },
   "source": [
    "Is this a good score? Well, not really. There are very few 5's compared to non-5's which means that a classifier that tends to predict 5's too rarely (i.e. low recall) still gets a seemingly okay ROC curve. In cases where you have an imbalanced dataset plotting the precision versus the recall can give you more information:"
   ]
  },
  {
   "cell_type": "code",
   "execution_count": null,
   "metadata": {
    "hidden": true
   },
   "outputs": [],
   "source": [
    "def plot_precision_vs_recall(precisions, recalls):\n",
    "    fig, ax = plt.subplots(figsize=(8,6))\n",
    "    ax.plot(recalls, precisions, \"b-\", linewidth=2)\n",
    "    plt.setp(ax, xlabel=\"Recall\", ylabel=\"Precision\")\n",
    "    plt.axis([0, 1, 0, 1])\n",
    "    return ax\n",
    "    \n",
    "_ = plot_precision_vs_recall(precisions, recalls)"
   ]
  },
  {
   "cell_type": "markdown",
   "metadata": {
    "hidden": true
   },
   "source": [
    "What you really want are classifiers whose precisiom-recall curve goes to the far upper right-hand corner. High precision and high recall. We notice that in this case we can get a recall of about 0.8 while still having an OK precision. Higher than that then the precision drops quickly."
   ]
  },
  {
   "cell_type": "markdown",
   "metadata": {
    "heading_collapsed": true,
    "hidden": true
   },
   "source": [
    "## Comparing classifiers"
   ]
  },
  {
   "cell_type": "markdown",
   "metadata": {
    "hidden": true
   },
   "source": [
    "The metrics we've discussed above gives us ways to compare classifiers. We can for example use the ROC curve and the ROCAUC. \n",
    "\n",
    "We can try this out by creating another model to solve our classification task: a random forest:"
   ]
  },
  {
   "cell_type": "code",
   "execution_count": null,
   "metadata": {
    "hidden": true
   },
   "outputs": [],
   "source": [
    "from sklearn.ensemble import RandomForestClassifier\n",
    "\n",
    "# Create an instance\n",
    "forest_clf = RandomForestClassifier(n_estimators=100, random_state=42)\n",
    "\n",
    "# Get predictions\n",
    "y_probas_forest = cross_val_predict(forest_clf, X_train, y_train_5, \n",
    "                                   cv=3, method='predict_proba')\n"
   ]
  },
  {
   "cell_type": "code",
   "execution_count": null,
   "metadata": {
    "hidden": true
   },
   "outputs": [],
   "source": [
    "y_probas_forest.shape"
   ]
  },
  {
   "cell_type": "code",
   "execution_count": null,
   "metadata": {
    "hidden": true
   },
   "outputs": [],
   "source": [
    "# The scores are the probabilities of the positive class assigned by the model\n",
    "y_scores_forest = y_probas_forest[:, 1]\n",
    "\n",
    "# Compute the FPR and TPR\n",
    "fpr_forest, tpr_forest, thresholds_forest = roc_curve(y_train_5, y_scores_forest)"
   ]
  },
  {
   "cell_type": "code",
   "execution_count": null,
   "metadata": {
    "hidden": true
   },
   "outputs": [],
   "source": [
    "plot_roc_curve(fpr_forest, tpr_forest)"
   ]
  },
  {
   "cell_type": "markdown",
   "metadata": {
    "hidden": true
   },
   "source": [
    "We get:"
   ]
  },
  {
   "cell_type": "code",
   "execution_count": null,
   "metadata": {
    "hidden": true
   },
   "outputs": [],
   "source": [
    "print(f\"ROCAUC for SGDClassifier: {roc_auc_score(y_train_5, y_scores)}\\n\")\n",
    "print(f\"ROCAUC for RandomForestClassifier: {roc_auc_score(y_train_5, y_scores_forest)}\")"
   ]
  },
  {
   "cell_type": "markdown",
   "metadata": {
    "hidden": true
   },
   "source": [
    "This leads us to prefer the random forest model (unless of course other considerations besides what's captured by the ROCAUC pulls in the direction of the SGDClassifier...)."
   ]
  },
  {
   "cell_type": "markdown",
   "metadata": {
    "hidden": true
   },
   "source": [
    "Let's also have a look at the models' precision-recall curves:"
   ]
  },
  {
   "cell_type": "code",
   "execution_count": null,
   "metadata": {
    "hidden": true
   },
   "outputs": [],
   "source": [
    "precisions_forest, recalls_forest, thresholds_forest = precision_recall_curve(y_train_5, y_scores_forest)"
   ]
  },
  {
   "cell_type": "code",
   "execution_count": null,
   "metadata": {
    "hidden": true
   },
   "outputs": [],
   "source": [
    "ax = plot_precision_vs_recall(precisions, recalls)\n",
    "ax.plot(precisions_forest, recalls_forest)\n",
    "plt.show()"
   ]
  },
  {
   "cell_type": "markdown",
   "metadata": {
    "hidden": true
   },
   "source": [
    "This also leads us to prefer the random forest (we can get higher precisions at higher recall compared to the SGDClassifier). "
   ]
  },
  {
   "cell_type": "markdown",
   "metadata": {
    "hidden": true
   },
   "source": [
    "Analogous to what we did for the ROC curve, we can compute the area under the precision-recall curve. This is called *average precision*, and is also commonly used to assess model performance. \n",
    "\n",
    "Computing such numbers are often more convenient than looking at curves, and also enables automatic model selection."
   ]
  },
  {
   "cell_type": "code",
   "execution_count": null,
   "metadata": {
    "hidden": true
   },
   "outputs": [],
   "source": [
    "from sklearn.metrics import average_precision_score\n",
    "\n",
    "aps_sgd = average_precision_score(y_train_5, y_scores)\n",
    "aps_rf = average_precision_score(y_train_5, y_scores_forest)"
   ]
  },
  {
   "cell_type": "code",
   "execution_count": null,
   "metadata": {
    "hidden": true
   },
   "outputs": [],
   "source": [
    "print(f\"The average precision of SGDClassifier is: {aps_sgd:.3f}\\n\")\n",
    "print(f\"The average precision of RF is: {aps_rf:.3f}\\n\")"
   ]
  },
  {
   "cell_type": "markdown",
   "metadata": {
    "hidden": true
   },
   "source": [
    "We also see that, unsurprisingly, the accuracy of the random forest is way higher than the SGD classifier. But also that the random forest is much slower in producing its predicitons..."
   ]
  },
  {
   "cell_type": "code",
   "execution_count": null,
   "metadata": {
    "hidden": true
   },
   "outputs": [],
   "source": [
    "%%time \n",
    "cross_val_score(forest_clf, X_train, y_train_5, cv=3).mean()"
   ]
  },
  {
   "cell_type": "code",
   "execution_count": null,
   "metadata": {
    "hidden": true
   },
   "outputs": [],
   "source": [
    "%%time \n",
    "cross_val_score(sgd_clf, X_train, y_train_5, cv=3).mean()"
   ]
  },
  {
   "cell_type": "markdown",
   "metadata": {
    "heading_collapsed": true,
    "hidden": true
   },
   "source": [
    "## Summary so far\n",
    "\n",
    "Some of the things we've learned so far:\n",
    "\n",
    "- How to train a binary classifier\n",
    "- Choosing appropriate metrics for the task\n",
    "- Evaluating classifiers using cross-validation\n",
    "- Selecting appropriate precision/recall tradeoffs\n",
    "- Comparing models using ROC curves and ROCAUC scores"
   ]
  },
  {
   "cell_type": "markdown",
   "metadata": {
    "heading_collapsed": true
   },
   "source": [
    "# Multiclass model: detecting more than 5s"
   ]
  },
  {
   "cell_type": "markdown",
   "metadata": {
    "hidden": true
   },
   "source": [
    "Now that we've seen some of the major concepts and techniques in classification, let's try to predict something that's more difficult: all the 10 classes in MNIST.\n",
    "\n",
    "The ideas behind multiclass predictions are the same, but the difficulty for our models are increased. "
   ]
  },
  {
   "cell_type": "markdown",
   "metadata": {
    "hidden": true
   },
   "source": [
    "Scikit-learn takes care of adapting models for multi-class predictions:"
   ]
  },
  {
   "cell_type": "code",
   "execution_count": null,
   "metadata": {
    "hidden": true
   },
   "outputs": [],
   "source": [
    "sgd_clf.fit(X_train, y_train)"
   ]
  },
  {
   "cell_type": "code",
   "execution_count": null,
   "metadata": {
    "hidden": true
   },
   "outputs": [],
   "source": [
    "some_digit = X_train[0]\n",
    "plot_digit(some_digit)"
   ]
  },
  {
   "cell_type": "code",
   "execution_count": null,
   "metadata": {
    "hidden": true
   },
   "outputs": [],
   "source": [
    "sgd_clf.predict([some_digit])"
   ]
  },
  {
   "cell_type": "markdown",
   "metadata": {
    "hidden": true
   },
   "source": [
    "Behind the scenes, scikit-learn trained 10 binary classifiers for us, and used them all on the `some_digit` data point. The class whose decision score was the highest was outputted by `predict`:"
   ]
  },
  {
   "cell_type": "code",
   "execution_count": null,
   "metadata": {
    "hidden": true
   },
   "outputs": [],
   "source": [
    "sgd_clf.decision_function([some_digit])"
   ]
  },
  {
   "cell_type": "code",
   "execution_count": null,
   "metadata": {
    "hidden": true
   },
   "outputs": [],
   "source": [
    "np.argmax(sgd_clf.decision_function([some_digit]))"
   ]
  },
  {
   "cell_type": "markdown",
   "metadata": {
    "hidden": true
   },
   "source": [
    "We can do the same with random forest classifiers:"
   ]
  },
  {
   "cell_type": "code",
   "execution_count": null,
   "metadata": {
    "hidden": true
   },
   "outputs": [],
   "source": [
    "forest_clf.fit(X_train, y_train)\n",
    "forest_clf.predict([some_digit])"
   ]
  },
  {
   "cell_type": "markdown",
   "metadata": {
    "hidden": true
   },
   "source": [
    "We can get the list of probabilities that the random forest assigned to each class:"
   ]
  },
  {
   "cell_type": "code",
   "execution_count": null,
   "metadata": {
    "hidden": true
   },
   "outputs": [],
   "source": [
    "forest_clf.predict_proba([some_digit])"
   ]
  },
  {
   "cell_type": "markdown",
   "metadata": {
    "hidden": true
   },
   "source": [
    "...and notice that the fifth class (corresponding to 5s) got assigned the highest probability."
   ]
  },
  {
   "cell_type": "markdown",
   "metadata": {
    "heading_collapsed": true,
    "hidden": true
   },
   "source": [
    "## Evaluation"
   ]
  },
  {
   "cell_type": "markdown",
   "metadata": {
    "heading_collapsed": true,
    "hidden": true
   },
   "source": [
    "### Cross-validation"
   ]
  },
  {
   "cell_type": "code",
   "execution_count": null,
   "metadata": {
    "hidden": true
   },
   "outputs": [],
   "source": [
    "cross_val_score(sgd_clf, X_train, y_train, cv=3, scoring=\"accuracy\", n_jobs=-1)"
   ]
  },
  {
   "cell_type": "code",
   "execution_count": null,
   "metadata": {
    "hidden": true
   },
   "outputs": [],
   "source": [
    "cross_val_score(forest_clf, X_train, y_train, cv=3, scoring=\"accuracy\", n_jobs=-1)"
   ]
  },
  {
   "cell_type": "markdown",
   "metadata": {
    "heading_collapsed": true,
    "hidden": true
   },
   "source": [
    "### Accuracy on the test set"
   ]
  },
  {
   "cell_type": "code",
   "execution_count": null,
   "metadata": {
    "hidden": true
   },
   "outputs": [],
   "source": [
    "from sklearn.metrics import accuracy_score"
   ]
  },
  {
   "cell_type": "code",
   "execution_count": null,
   "metadata": {
    "hidden": true
   },
   "outputs": [],
   "source": [
    "accuracy_score(y_test, sgd_clf.predict(X_test))"
   ]
  },
  {
   "cell_type": "code",
   "execution_count": null,
   "metadata": {
    "hidden": true
   },
   "outputs": [],
   "source": [
    "accuracy_score(y_test, forest_clf.predict(X_test))"
   ]
  },
  {
   "cell_type": "markdown",
   "metadata": {
    "heading_collapsed": true,
    "hidden": true
   },
   "source": [
    "### Confusion matrix\n"
   ]
  },
  {
   "cell_type": "markdown",
   "metadata": {
    "hidden": true
   },
   "source": [
    "Let's compare the two classifiers' confusion matrices:"
   ]
  },
  {
   "cell_type": "code",
   "execution_count": null,
   "metadata": {
    "hidden": true
   },
   "outputs": [],
   "source": [
    "sgd_train_pred = cross_val_predict(sgd_clf, X_train, y_train, cv=3, n_jobs=-1)\n",
    "forest_train_pred = cross_val_predict(forest_clf, X_train, y_train, cv=3, n_jobs=-1)"
   ]
  },
  {
   "cell_type": "code",
   "execution_count": null,
   "metadata": {
    "hidden": true
   },
   "outputs": [],
   "source": [
    "sgd_cm = confusion_matrix(y_train, sgd_train_pred)\n",
    "forest_cm = confusion_matrix(y_train, forest_train_pred)"
   ]
  },
  {
   "cell_type": "code",
   "execution_count": null,
   "metadata": {
    "hidden": true
   },
   "outputs": [],
   "source": [
    "cms = [sgd_cm, forest_cm]\n",
    "titles = [\"SGDClassifier\", \"Random Forest\"]\n",
    "fig, axes = plt.subplots(1, 2, figsize=(12,6))\n",
    "\n",
    "for i, ax in enumerate(axes.flat):\n",
    "    plot_confusion_matrix(cms[i], classes=sgd_clf.classes_, ax=ax, title=titles[i])"
   ]
  },
  {
   "cell_type": "markdown",
   "metadata": {
    "hidden": true
   },
   "source": [
    "Both confusion matrices look pretty good: most of the images land on the diagonal. However, there are errors and there seems to be some patterns in them... Let's take a closer look."
   ]
  },
  {
   "cell_type": "markdown",
   "metadata": {
    "hidden": true
   },
   "source": [
    "> As a side note: these are not the kinds of models you would use for computer vision problems these days. You've heard of **\"deep learning\"** and the **revolution** it has caused in machine learning during the last couple of years. Where it started, and where it's made the most impact until now, is in computer vision. In the course [DAT255](https://www.hvl.no/en/studies-at-hvl/study-programmes/course/dat255) we'll have a look at deep learning, and study models that can quite easily reach above 99.7% accuracy on MNIST. Which means that the model makes a mistake on *less than 30 images of the 10.000 test images*! And for some of these images, if we take a look ourself, we would agree with the machine's predictions. Modern deep learning has blown away MNIST as a benchmark by essentially \"solving\" it. "
   ]
  },
  {
   "cell_type": "markdown",
   "metadata": {
    "hidden": true
   },
   "source": [
    "Another side-note: **Accuracy, precision, recall in multiclass settings**"
   ]
  },
  {
   "cell_type": "markdown",
   "metadata": {
    "hidden": true
   },
   "source": [
    "> In  a previous exercise I asked you to consider how to define precision and recall in a multiclass setting. Think about it again. See if you can figure out how the following numbers are computed: "
   ]
  },
  {
   "cell_type": "code",
   "execution_count": null,
   "metadata": {
    "hidden": true
   },
   "outputs": [],
   "source": [
    "from sklearn.metrics import classification_report"
   ]
  },
  {
   "cell_type": "code",
   "execution_count": null,
   "metadata": {
    "hidden": true
   },
   "outputs": [],
   "source": [
    "print(classification_report(y_train, forest_train_pred, digits=3))"
   ]
  },
  {
   "cell_type": "markdown",
   "metadata": {
    "heading_collapsed": true
   },
   "source": [
    "# Error analysis"
   ]
  },
  {
   "cell_type": "markdown",
   "metadata": {
    "hidden": true
   },
   "source": [
    "We can zoom in on the errors in the confusion matrices by disregarding the main diagonal. First we have to scale each value by the number of images in the corresponding class, to properly compare error rates:"
   ]
  },
  {
   "cell_type": "code",
   "execution_count": null,
   "metadata": {
    "hidden": true
   },
   "outputs": [],
   "source": [
    "row_sums = sgd_cm.sum(axis=1, keepdims=True)\n",
    "norm_sgd_cm = sgd_cm / row_sums"
   ]
  },
  {
   "cell_type": "code",
   "execution_count": null,
   "metadata": {
    "hidden": true
   },
   "outputs": [],
   "source": [
    "_ = plot_confusion_matrix(norm_sgd_cm, classes=sgd_clf.classes_, \n",
    "                         title=\"Error matrix\", labels=False)"
   ]
  },
  {
   "cell_type": "markdown",
   "metadata": {
    "hidden": true
   },
   "source": [
    "We notice several interesting things:\n",
    "- Bright columns for 8 and 9 --> many images get misclassified as 8 or 9s.\n",
    "- Bright rows for 8 and 9 --> many 8s and 9s are often confused with other digits\n",
    "- The model confuses for example 7s with 9s and 3s with 5s"
   ]
  },
  {
   "cell_type": "markdown",
   "metadata": {
    "hidden": true
   },
   "source": [
    "This gives us some ideas for improving our model. Perhaps we should try to improve the 8 and 9 classifications, and work to fix the 3/5 confusion."
   ]
  },
  {
   "cell_type": "markdown",
   "metadata": {
    "heading_collapsed": true,
    "hidden": true
   },
   "source": [
    "## Analyzing individual errors"
   ]
  },
  {
   "cell_type": "markdown",
   "metadata": {
    "hidden": true
   },
   "source": [
    "Let's plot some 3s and 5s. Some 3s that the model got correct, some it confused for 5s. Some 5s the confused for 3s, and some correct 5s. "
   ]
  },
  {
   "cell_type": "code",
   "execution_count": null,
   "metadata": {
    "hidden": true
   },
   "outputs": [],
   "source": [
    "# Taken from the book:\n",
    "def plot_digits(instances, images_per_row=10, **options):\n",
    "    size = 28\n",
    "    images_per_row = min(len(instances), images_per_row)\n",
    "    images = [instance.reshape(size,size) for instance in instances]\n",
    "    n_rows = (len(instances) - 1) // images_per_row + 1\n",
    "    row_images = []\n",
    "    n_empty = n_rows * images_per_row - len(instances)\n",
    "    images.append(np.zeros((size, size * n_empty)))\n",
    "    for row in range(n_rows):\n",
    "        rimages = images[row * images_per_row : (row + 1) * images_per_row]\n",
    "        row_images.append(np.concatenate(rimages, axis=1))\n",
    "    image = np.concatenate(row_images, axis=0)\n",
    "    plt.imshow(image, cmap = matplotlib.cm.binary, **options)\n",
    "    plt.axis(\"off\")"
   ]
  },
  {
   "cell_type": "code",
   "execution_count": null,
   "metadata": {
    "hidden": true
   },
   "outputs": [],
   "source": [
    "def individual_errors(clf, cl_a, cl_b):\n",
    "    cl_a, cl_b = str(cl_a), str(cl_b)\n",
    "    X_aa = X_train[(y_train == cl_a) & (sgd_train_pred == cl_a)] # Correct class a's\n",
    "    X_ab = X_train[(y_train == cl_a) & (sgd_train_pred == cl_b)] # a's predicted as b's\n",
    "    X_ba = X_train[(y_train == cl_b) & (sgd_train_pred == cl_a)] # b's predicted as a's\n",
    "    X_bb = X_train[(y_train == cl_b) & (sgd_train_pred == cl_b)] # Correct b's\n",
    "    \n",
    "    plt.figure(figsize=(10,10))\n",
    "    plt.subplot(221); plot_digits(X_aa[:25], images_per_row=5)\n",
    "    plt.subplot(222); plot_digits(X_ab[:25], images_per_row=5)\n",
    "    plt.subplot(223); plot_digits(X_ba[:25], images_per_row=5)\n",
    "    plt.subplot(224); plot_digits(X_bb[:25], images_per_row=5)"
   ]
  },
  {
   "cell_type": "code",
   "execution_count": null,
   "metadata": {
    "hidden": true
   },
   "outputs": [],
   "source": [
    "individual_errors(sgd_clf, 3, 5)"
   ]
  },
  {
   "cell_type": "markdown",
   "metadata": {
    "hidden": true
   },
   "source": [
    "The SGDClassifier is a linear model. All it does is assign a weight per class to each pixel, and when it sees a new image it just sums up the wighted pixel intensities to get a score for each class. Since 3s and 5s only differ only by a few pixels, this model will easily confuse them. Same for 7s and 9s:"
   ]
  },
  {
   "cell_type": "code",
   "execution_count": null,
   "metadata": {
    "hidden": true
   },
   "outputs": [],
   "source": [
    "individual_errors(sgd_clf, 7, 9)"
   ]
  },
  {
   "cell_type": "markdown",
   "metadata": {
    "hidden": true
   },
   "source": [
    "One would expect it to perform better on for example 1s and 4s:"
   ]
  },
  {
   "cell_type": "code",
   "execution_count": null,
   "metadata": {
    "hidden": true
   },
   "outputs": [],
   "source": [
    "individual_errors(sgd_clf, 1, 4)"
   ]
  },
  {
   "cell_type": "markdown",
   "metadata": {
    "heading_collapsed": true
   },
   "source": [
    "# End"
   ]
  },
  {
   "cell_type": "markdown",
   "metadata": {
    "hidden": true
   },
   "source": [
    "Now you've learned about some of the main practical machine learning ideas and techniques, and you're actually already well-equipped to go out and attack real-world problems.\n",
    "\n",
    "However, we've treated the models as black boxes. **We haven't really discussed how machine learning models work!** It's important to know some of the how's to be an effective machine learning practitioner.\n",
    "\n",
    "In [Part 2](https://hvl.instructure.com/courses/14467/pages/noen-utvalgte-maskinlaeringsmodeller-og-hvordan-bruke-disse-effektivt?module_item_id=290300) of the course we'll start to dig deeper. How are the models constructed? How are they trained?"
   ]
  }
 ],
 "metadata": {
  "kernelspec": {
   "display_name": "DAT158",
   "language": "python",
   "name": "dat158"
  },
  "language_info": {
   "codemirror_mode": {
    "name": "ipython",
    "version": 3
   },
   "file_extension": ".py",
   "mimetype": "text/x-python",
   "name": "python",
   "nbconvert_exporter": "python",
   "pygments_lexer": "ipython3",
   "version": "3.8.5"
  },
  "toc": {
   "base_numbering": 1,
   "nav_menu": {},
   "number_sections": true,
   "sideBar": true,
   "skip_h1_title": false,
   "title_cell": "Table of Contents",
   "title_sidebar": "Contents",
   "toc_cell": true,
   "toc_position": {},
   "toc_section_display": true,
   "toc_window_display": false
  },
  "widgets": {
   "application/vnd.jupyter.widget-state+json": {
    "state": {},
    "version_major": 2,
    "version_minor": 0
   }
  }
 },
 "nbformat": 4,
 "nbformat_minor": 4
}
